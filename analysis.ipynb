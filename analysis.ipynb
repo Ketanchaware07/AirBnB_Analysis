{
 "cells": [
  {
   "cell_type": "markdown",
   "id": "f37ae7aa",
   "metadata": {},
   "source": [
    "# Airbnb Data Analysis\n",
    "\n",
    "This notebook explores Airbnb listings data, focusing on price trends, availability, and host behavior."
   ]
  },
  {
   "cell_type": "code",
   "execution_count": null,
   "id": "6e798c5c",
   "metadata": {},
   "outputs": [],
   "source": [
    "import pandas as pd\n",
    "import seaborn as sns\n",
    "import matplotlib.pyplot as plt\n",
    "\n",
    "# Load the dataset\n",
    "df = pd.read_csv('../data/AirBnB.csv')"
   ]
  },
  {
   "cell_type": "code",
   "execution_count": null,
   "id": "a176191d",
   "metadata": {},
   "outputs": [],
   "source": [
    "df.info()\n",
    "df.describe()"
   ]
  },
  {
   "cell_type": "markdown",
   "id": "55d67449",
   "metadata": {},
   "source": [
    "## Price Distribution"
   ]
  },
  {
   "cell_type": "code",
   "execution_count": null,
   "id": "2ef9bfd8",
   "metadata": {},
   "outputs": [],
   "source": [
    "sns.histplot(df['price'], bins=50, kde=True)\n",
    "plt.title('Price Distribution')\n",
    "plt.xlim(0, 1000)\n",
    "plt.show()"
   ]
  },
  {
   "cell_type": "markdown",
   "id": "82dc99f7",
   "metadata": {},
   "source": [
    "## Listings by Neighbourhood Group"
   ]
  },
  {
   "cell_type": "code",
   "execution_count": null,
   "id": "5a41beba",
   "metadata": {},
   "outputs": [],
   "source": [
    "sns.countplot(data=df, y='neighbourhood_group', order=df['neighbourhood_group'].value_counts().index)\n",
    "plt.title('Listings by Neighbourhood Group')\n",
    "plt.show()"
   ]
  },
  {
   "cell_type": "markdown",
   "id": "ba5674d6",
   "metadata": {},
   "source": [
    "## Average Price by Room Type"
   ]
  },
  {
   "cell_type": "code",
   "execution_count": null,
   "id": "e04f19ff",
   "metadata": {},
   "outputs": [],
   "source": [
    "sns.barplot(data=df, x='room_type', y='price', estimator='mean')\n",
    "plt.title('Average Price by Room Type')\n",
    "plt.ylim(0, 500)\n",
    "plt.show()"
   ]
  },
  {
   "cell_type": "markdown",
   "id": "8d44cb98",
   "metadata": {},
   "source": [
    "## Top 10 Hosts by Number of Listings"
   ]
  },
  {
   "cell_type": "code",
   "execution_count": null,
   "id": "0066a730",
   "metadata": {},
   "outputs": [],
   "source": [
    "top_hosts = df['host_id'].value_counts().head(10)\n",
    "top_hosts.plot(kind='bar')\n",
    "plt.title('Top 10 Hosts by Number of Listings')\n",
    "plt.xlabel('Host ID')\n",
    "plt.ylabel('Number of Listings')\n",
    "plt.show()"
   ]
  }
 ],
 "metadata": {},
 "nbformat": 4,
 "nbformat_minor": 5
}
